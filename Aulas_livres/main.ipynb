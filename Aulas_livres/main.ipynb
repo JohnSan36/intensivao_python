{
 "cells": [
  {
   "cell_type": "markdown",
   "metadata": {},
   "source": [
    "# ***Livro intensivão de python***\n",
    "\n",
    "## **String**\n",
    "Podemos usar os métodos de string em toda e qualquer string, tanto em uma variavel quanto ao defini-la. Para saber se é possivel usar um metodo de string, é só usar um type() e o programa retornará o tipo da string. No caso do exemplo a seguir, usamos o método title() para transformar o texto em algumas letras maiusculas.\n",
    "- Um método é uma ação que o python pode executar com um dado. Métodos normalmente precisam de parenteses, pois com frequencia precisam de informações adicionais para realizar a tarefa.\n",
    "\n",
    "Exemplo:"
   ]
  },
  {
   "cell_type": "code",
   "execution_count": 1,
   "metadata": {},
   "outputs": [
    {
     "name": "stdout",
     "output_type": "stream",
     "text": [
      "<class 'str'>\n",
      "Ada Love\n"
     ]
    }
   ],
   "source": [
    "name = \"ada love\"\n",
    "print(type(name))\n",
    "print(name.title())"
   ]
  },
  {
   "cell_type": "markdown",
   "metadata": {},
   "source": [
    "### Concatenação\n",
    "Ao usar um sinal de mais podemos concatenar strings."
   ]
  },
  {
   "cell_type": "code",
   "execution_count": 2,
   "metadata": {},
   "outputs": [
    {
     "name": "stdout",
     "output_type": "stream",
     "text": [
      "Hello, Ana Barbosa!\n",
      "Hello, Ana Barbosa!\n"
     ]
    }
   ],
   "source": [
    "firt_name = \"Ana\"\n",
    "last_name = \"Barbosa\"\n",
    "full_name = firt_name + \" \" + last_name\n",
    "\n",
    "print(\"Hello, \" + full_name.title() + \"!\" )\n",
    "\n",
    "#Ou para simplificar\n",
    "message = \"Hello, \" + full_name.title() + \"!\"\n",
    "print(message)"
   ]
  },
  {
   "cell_type": "markdown",
   "metadata": {},
   "source": [
    "### Acrescentando espaços em branco\n",
    "Ao exibir espaços em branco (tabulações, quebra de linha, simbolos de fim de linha) o código a seguir se torna muito util.\n",
    "O \\n (barra invertida + n) deve ser usado no final da linha para deixar uma quebra de linha, enquanto \\t (barra invertida + t) é usado no inicio para deixar um paragrafo ou espaçamento anterior ao texto"
   ]
  },
  {
   "cell_type": "code",
   "execution_count": 3,
   "metadata": {},
   "outputs": [
    {
     "name": "stdout",
     "output_type": "stream",
     "text": [
      "\tPython\n",
      "\n",
      "Python\n",
      "\n",
      "\tPython\n",
      "\n"
     ]
    }
   ],
   "source": [
    "print(\"\\tPython\\n\")\n",
    "print(\"Python\\n\")\n",
    "print(\"\\tPython\\n\")"
   ]
  },
  {
   "cell_type": "markdown",
   "metadata": {},
   "source": [
    "### Removendo espaços"
   ]
  },
  {
   "cell_type": "code",
   "execution_count": 4,
   "metadata": {},
   "outputs": [
    {
     "name": "stdout",
     "output_type": "stream",
     "text": [
      "Python\n",
      "Python\n",
      "Python\n"
     ]
    }
   ],
   "source": [
    "favorite_language = \"Python \"\n",
    "print(favorite_language.rstrip()) #remove espaçamentos do lado direito da palavra, porem appenas no momento em que é chamada.\n",
    "\n",
    "favorite_language2 = favorite_language.rstrip() #Armazena permanentemente a remoção de espaço na variavel\n",
    "\n",
    "#------------------------------------------------------------------------------------------------------------------------------\n",
    "#Também podemos remover o espaçamento do lado esquerdo\n",
    "favorite_language = \" Python\"\n",
    "print(favorite_language.lstrip()) #remove espaçamentos do lado esquerdo da palavra, porem appenas no momento em que é chamada.\n",
    "\n",
    "favorite_language2 = favorite_language.lstrip() #Armazena permanentemente a remoção de espaço na variavel\n",
    "\n",
    "#------------------------------------------------------------------------------------------------------------------------------\n",
    "#Também podemos remover o espaçamento dos dois lados\n",
    "favorite_language = \" Python \"\n",
    "print(favorite_language.strip()) #remove espaçamentos ds dois lados da palavra, porem appenas no momento em que é chamada.\n",
    "\n",
    "favorite_language2 = favorite_language.strip() #Armazena permanentemente a remoção de espaço na variavel"
   ]
  },
  {
   "cell_type": "markdown",
   "metadata": {},
   "source": [
    "### Evitando erros de tipo com a função str()"
   ]
  },
  {
   "cell_type": "code",
   "execution_count": 5,
   "metadata": {},
   "outputs": [
    {
     "name": "stdout",
     "output_type": "stream",
     "text": [
      "Happy 23 Birthday\n"
     ]
    }
   ],
   "source": [
    "age = 23\n",
    "print(\"Happy \" + str(age) + \" Birthday\")"
   ]
  },
  {
   "cell_type": "markdown",
   "metadata": {},
   "source": [
    "## **Listas**\n",
    "##### O que é uma lista? []\n",
    "Uma lista é uma coleção de itens em uma ordem em particular. Podemos criar uma lista que inclua as letras do alfabeto, \n",
    "os dígitos de 0 a 9 ou os nomes de todas as pessoas de sua família. Você pode colocar qualquer informação que quiser \n",
    "em uma lista, e os itens de sua lista não precisam estar relacionados de nenhum modo em particular. Como uma lista \n",
    "geralmente contém mais de um elemento, é uma boa ideia deixar seu nome no plural, por exemplo, letters, digits ou names.\n",
    "\n",
    "Em python, colchetes indicam uma lista, e seus itens são separados por virgulas. Caso printemos uma lista ela exibira os itens envoltos do colchete."
   ]
  },
  {
   "cell_type": "code",
   "execution_count": 6,
   "metadata": {},
   "outputs": [
    {
     "name": "stdout",
     "output_type": "stream",
     "text": [
      "trek\n"
     ]
    }
   ],
   "source": [
    "bicycles = [\"trek\", \"Canambole\",\"Redline\", \"Specialized\"]\n",
    "print(bicycles[0])  #printa o primeiro elemento da lista"
   ]
  },
  {
   "cell_type": "markdown",
   "metadata": {},
   "source": [
    "Podemos usar metodos de string vistos anteriormente para formatar as saidas das listas."
   ]
  },
  {
   "cell_type": "code",
   "execution_count": 7,
   "metadata": {},
   "outputs": [
    {
     "name": "stdout",
     "output_type": "stream",
     "text": [
      "TREK\n"
     ]
    }
   ],
   "source": [
    "print(bicycles[0].upper())\n",
    "\n",
    "#Python considera sempre o primeiro item da lista como zero"
   ]
  },
  {
   "cell_type": "markdown",
   "metadata": {},
   "source": [
    "Podemos solicitar o ultimo item de uma lista usando sempre o -1, o que se aplica aos demais algarismos negativos, acessando itens ao \n",
    "contrario, como -2,-3 e sucessivamente."
   ]
  },
  {
   "cell_type": "code",
   "execution_count": 8,
   "metadata": {},
   "outputs": [
    {
     "name": "stdout",
     "output_type": "stream",
     "text": [
      "SPECIALIZED\n"
     ]
    }
   ],
   "source": [
    "print(bicycles[-1].upper())"
   ]
  },
  {
   "cell_type": "markdown",
   "metadata": {},
   "source": [
    "Podemos também usar os valores individuais das listas para compor mensagens."
   ]
  },
  {
   "cell_type": "code",
   "execution_count": 9,
   "metadata": {},
   "outputs": [
    {
     "name": "stdout",
     "output_type": "stream",
     "text": [
      "Minha primeira bicicleta foi uma trek, depois comprei uma Specialized.\n"
     ]
    }
   ],
   "source": [
    "mensagem = \"Minha primeira bicicleta foi uma \" + bicycles[0] + \", depois comprei uma \" + bicycles[-1]+\".\"\n",
    "print(mensagem)"
   ]
  },
  {
   "cell_type": "markdown",
   "metadata": {},
   "source": [
    "### Alterando, acrescentando ou removendo itens\n",
    "Para isto, temos uma sintaxe semelhante a acessar qualquer elemento da lista, basta acessa-lo e fornecer um novo valor.\n",
    "\n",
    "Já para acrescentar um item, usamos o método append() e acrescentamos dentro dos parentes o argumento, que é o item que queremos adicionar na lista.\n",
    "\n",
    "O método append é muito util, pois podemos começar com uma lista de algo vazia, e acrescentar valores a ela durante a execução do programa."
   ]
  },
  {
   "cell_type": "code",
   "execution_count": 10,
   "metadata": {},
   "outputs": [
    {
     "name": "stdout",
     "output_type": "stream",
     "text": [
      "['Monark', 'Canambole', 'Redline', 'Specialized']\n",
      "['Monark', 'Canambole', 'Redline', 'Specialized', 'Barra circular']\n",
      "['yamaha', 'honda', 'suzuki']\n"
     ]
    }
   ],
   "source": [
    "bicycles[0] = \"Monark\"\n",
    "print(bicycles)\n",
    "\n",
    "#Acrescenta itens na lista\n",
    "bicycles.append(\"Barra circular\")\n",
    "print(bicycles)\n",
    "\n",
    "#Adiciona itens na lista vazia\n",
    "motocycles = []\n",
    "motocycles.append(\"yamaha\")\n",
    "motocycles.append(\"honda\")\n",
    "motocycles.append(\"suzuki\")\n",
    "print(motocycles)"
   ]
  },
  {
   "cell_type": "markdown",
   "metadata": {},
   "source": [
    "Também podemos querer adiconar valores em uma posição especifica da lista, atividade a qual podemos realizar co, o método .insert(), onde dese-se passar 2 argumentos em seus parenteses, em primeiro a posição do item na lista, em segundo o próprio item."
   ]
  },
  {
   "cell_type": "code",
   "execution_count": 11,
   "metadata": {},
   "outputs": [
    {
     "name": "stdout",
     "output_type": "stream",
     "text": [
      "['yamaha', 'Hayabusa', 'honda', 'suzuki']\n"
     ]
    }
   ],
   "source": [
    "motocycles.insert(1, \"Hayabusa\")\n",
    "print(motocycles)"
   ]
  },
  {
   "cell_type": "markdown",
   "metadata": {},
   "source": [
    "Já que inserimos e adicionamos novos itens, é normal que também iremos eventualmente querer remover itens desta lista, assim como removeriamos usuarios ativos de um site ao deslogar. Para isto usamos a instrução del, que é diferente de um método, acessamos o item da lista, sua posição e o removemos, isto quando o mesmo é conhecido."
   ]
  },
  {
   "cell_type": "code",
   "execution_count": 12,
   "metadata": {},
   "outputs": [
    {
     "name": "stdout",
     "output_type": "stream",
     "text": [
      "['yamaha', 'honda', 'suzuki']\n"
     ]
    }
   ],
   "source": [
    "del motocycles[1]\n",
    "print(motocycles)"
   ]
  },
  {
   "cell_type": "markdown",
   "metadata": {},
   "source": [
    "Removendo um item com o método pop()\n",
    "Muitas vezes é possivel que gostariamos de remover um item de uma lista e usa-lo em outro, ação que podemos realizar com o metodo pop(), que deriva da analogia de ter uma pilha de algo e remover o ultimo item e usar em outro lugar.\n",
    "\n",
    "Também é possivel remover um item de qualquer lugar da lista usando o pop, basta usar a posição do elemento como seu argumento."
   ]
  },
  {
   "cell_type": "code",
   "execution_count": 13,
   "metadata": {},
   "outputs": [
    {
     "name": "stdout",
     "output_type": "stream",
     "text": [
      "['yamaha', 'honda']\n",
      "suzuki\n",
      "\tMonark\n",
      "['Canambole', 'Redline', 'Specialized', 'Barra circular']\n"
     ]
    }
   ],
   "source": [
    "motocycles_popped = motocycles.pop()\n",
    "print(motocycles)\n",
    "print(motocycles_popped) #Vale notar que em motocycles_popped armazenou o item que foi removido nessa nova variavel.\n",
    "\n",
    "#Remove um item de primeira posição em bicycles\n",
    "bicycles_popped = bicycles.pop(0)\n",
    "print(\"\\t\" + bicycles_popped)\n",
    "print(bicycles)"
   ]
  },
  {
   "cell_type": "markdown",
   "metadata": {},
   "source": [
    "Haverão também momentos em que iremos querer remover algum item da lista, porem não saberemos sua posição, sendo assim usaremos o método remove() contendo o valor do item como seu argumento.\n",
    "\n",
    "Também podemos usar o remove para trabalhar com o valor que esta sendo removido da lista."
   ]
  },
  {
   "cell_type": "code",
   "execution_count": 14,
   "metadata": {},
   "outputs": [
    {
     "name": "stdout",
     "output_type": "stream",
     "text": [
      "['Redline', 'Specialized', 'Barra circular']\n",
      "Removi a byke Redline porque ja não cabia mais na garagem com as outras\n"
     ]
    }
   ],
   "source": [
    "bicycles.remove(\"Canambole\")\n",
    "print(bicycles)\n",
    "\n",
    "#Trabalha com o valor removido\n",
    "expensive = \"Redline\"\n",
    "bicycles.remove(expensive)\n",
    "print(\"Removi a byke \" + expensive.title() + \" porque ja não cabia mais na garagem com as outras\")\n",
    "\n",
    "#Note que após remover da lista a bicleta armazenada na variavel expensive, ela permanece armazenada na variavel, o que nos permite\n",
    "#trabalhar com ela futuramente, talvez para dizer o por que ela foi remvida da lista, por exemplo.\n"
   ]
  },
  {
   "cell_type": "markdown",
   "metadata": {},
   "source": [
    "### Exercicios"
   ]
  },
  {
   "cell_type": "code",
   "execution_count": 15,
   "metadata": {},
   "outputs": [
    {
     "name": "stdout",
     "output_type": "stream",
     "text": [
      "Ola Elon Musk, gostaria de jantar na minha casa hoje?\n",
      "Ola Nikola Tesla, gostaria de jantar na minha casa hoje?\n",
      "Ola Alan Touring, gostaria de jantar na minha casa hoje?\n",
      "Ola Richar Feynman, gostaria de jantar na minha casa hoje?\n",
      "\n",
      "\tPoxa vida, Alan Touring não poderá comparecer hoje! Sendo assim, aqui estão os novos convites!\n",
      "\n",
      "Ola Elon Musk, gostaria de jantar na minha casa hoje?\n",
      "Ola Nikola Tesla, gostaria de jantar na minha casa hoje?\n",
      "Ola Richar Feynman, gostaria de jantar na minha casa hoje?\n",
      "['Bolsonaro', 'Elon Musk', 'Pablo Marçal', 'Nikola Tesla', 'Richar Feynman', 'Putin']\n",
      "\n",
      "Ola Bolsonaro, gostaria de jantar na minha casa hoje?\n",
      "Ola Elon Musk, gostaria de jantar na minha casa hoje?\n",
      "Ola Pablo Marçal, gostaria de jantar na minha casa hoje?\n",
      "Ola Nikola Tesla, gostaria de jantar na minha casa hoje?\n",
      "Ola Richar Feynman, gostaria de jantar na minha casa hoje?\n",
      "Ola Putin, gostaria de jantar na minha casa hoje?\n",
      "\n",
      "Pessoal, acabo de descobrir que só poderei receber duas pessoas!!!\n",
      "\n",
      "Putin, infelismente você não poderá participar da festa!\n",
      "Richar Feynman, infelismente você não poderá participar da festa!\n",
      "Pablo Marçal, infelismente você não poderá participar da festa!\n",
      "Bolsonaro, infelismente você não poderá participar da festa!\n",
      "\n",
      "Confirmando presença com Elon Musk e Nikola Tesla\n",
      "\n",
      "\n",
      "[]\n"
     ]
    }
   ],
   "source": [
    "convidados = [\"Elon Musk\", \"Nikola Tesla\", \"Alan Touring\", \"Richar Feynman\"]\n",
    "for convidado in convidados:\n",
    "    print(f\"Ola {convidado}, gostaria de jantar na minha casa hoje?\")\n",
    "print(\"\")\n",
    "\n",
    "\n",
    "ausente = \"Alan Touring\"\n",
    "convidados.remove(ausente)\n",
    "print(f\"\\tPoxa vida, {ausente} não poderá comparecer hoje! Sendo assim, aqui estão os novos convites!\\n\")\n",
    "\n",
    "for convidado in convidados:\n",
    "    print(f\"Ola {convidado}, gostaria de jantar na minha casa hoje?\")\n",
    "\n",
    "\n",
    "novos_convidados = [\"Pablo Marçal\", \"Bolsonaro\", \"Putin\"]\n",
    "convidados.insert(1, novos_convidados[0])\n",
    "convidados.insert(0, novos_convidados[1])\n",
    "convidados.append(novos_convidados[-1])\n",
    "print(convidados)\n",
    "print(\"\")\n",
    "\n",
    "for convidado in convidados:\n",
    "    print(f\"Ola {convidado}, gostaria de jantar na minha casa hoje?\")\n",
    "print(\"\")\n",
    "#---------------------------------------------------------------------\n",
    "convidados_ausentes = [\"Bolsonaro\", \"Putin\", \"Pablo Marçal\", \"Richard Feynman\"]\n",
    "\n",
    "print(\"Pessoal, acabo de descobrir que só poderei receber duas pessoas!!!\\n\")\n",
    "\n",
    "convidado_ausente_1 = convidados.pop()\n",
    "convidado_ausente_2 = convidados.pop()\n",
    "convidado_ausente_3= convidados.pop(-2)\n",
    "convidado_ausente_4 = convidados.pop(-3)\n",
    "\n",
    "print(convidado_ausente_1 + \", infelismente você não poderá participar da festa!\")\n",
    "print(convidado_ausente_2 + \", infelismente você não poderá participar da festa!\")\n",
    "print(convidado_ausente_3 + \", infelismente você não poderá participar da festa!\")\n",
    "print(convidado_ausente_4 + \", infelismente você não poderá participar da festa!\\n\")\n",
    "\n",
    "print(f\"Confirmando presença com {convidados[0]} e {convidados[1]}\\n\\n\")\n",
    "\n",
    "for convidado in convidados.copy():\n",
    "    convidados.remove(convidado)\n",
    "print(convidados)"
   ]
  },
  {
   "cell_type": "markdown",
   "metadata": {},
   "source": [
    "### Organizando uma lista\n",
    "É um assunto interessantequando queremos alterar a ordem de uma lista original, algo que podemos fazer com o método sort(), o qual ira organizar os itens em ordem alfabética. Também podemos organizar a lista em ordem alfabetica reversa, usando como argumento \"reverse=True\". Importante notar que este método altera a ordem da lista permanentemente."
   ]
  },
  {
   "cell_type": "code",
   "execution_count": 16,
   "metadata": {},
   "outputs": [
    {
     "name": "stdout",
     "output_type": "stream",
     "text": [
      "['audi', 'bmw', 'subaru', 'toyota']\n",
      "['toyota', 'subaru', 'bmw', 'audi']\n"
     ]
    }
   ],
   "source": [
    "cars = [\"bmw\", \"audi\",\"toyota\", \"subaru\"]\n",
    "cars.sort()\n",
    "print(cars)\n",
    "\n",
    "cars.sort(reverse=True)\n",
    "print(cars)"
   ]
  },
  {
   "cell_type": "markdown",
   "metadata": {},
   "source": [
    "Alterando temporariamente com a função sorted(), pode ser interessante quando queremos ordenar a lista para ser exibida enquanto a original permanece a mesma."
   ]
  },
  {
   "cell_type": "code",
   "execution_count": 17,
   "metadata": {},
   "outputs": [
    {
     "name": "stdout",
     "output_type": "stream",
     "text": [
      "['bmw', 'audi', 'toyota', 'subaru']\n",
      "Esta é a lista ordenada\n",
      "['audi', 'bmw', 'subaru', 'toyota']\n",
      "Esta é a lista ordenada inversamente\n",
      "['toyota', 'subaru', 'bmw', 'audi']\n"
     ]
    }
   ],
   "source": [
    "cars = [\"bmw\", \"audi\",\"toyota\", \"subaru\"]\n",
    "print(cars)\n",
    "\n",
    "print(\"Esta é a lista ordenada\")\n",
    "print(sorted(cars))\n",
    "\n",
    "print(\"Esta é a lista ordenada inversamente\")\n",
    "print(sorted(cars, reverse=True))"
   ]
  },
  {
   "cell_type": "markdown",
   "metadata": {},
   "source": [
    "Para inverter a ordem original das listas, podemos usar o método reverse()"
   ]
  },
  {
   "cell_type": "code",
   "execution_count": 18,
   "metadata": {},
   "outputs": [
    {
     "name": "stdout",
     "output_type": "stream",
     "text": [
      "['subaru', 'toyota', 'audi', 'bmw']\n"
     ]
    }
   ],
   "source": [
    "cars = [\"bmw\", \"audi\",\"toyota\", \"subaru\"]\n",
    "cars.reverse()\n",
    "print(cars)"
   ]
  },
  {
   "cell_type": "markdown",
   "metadata": {},
   "source": [
    "Descobrindo o tamanho da lista com a função len()"
   ]
  },
  {
   "cell_type": "code",
   "execution_count": 19,
   "metadata": {},
   "outputs": [
    {
     "name": "stdout",
     "output_type": "stream",
     "text": [
      "4\n"
     ]
    }
   ],
   "source": [
    "cars = [\"bmw\", \"audi\",\"toyota\", \"subaru\"]\n",
    "print(len(cars))"
   ]
  },
  {
   "cell_type": "markdown",
   "metadata": {},
   "source": [
    "### Exercicio"
   ]
  },
  {
   "cell_type": "code",
   "execution_count": 20,
   "metadata": {},
   "outputs": [
    {
     "name": "stdout",
     "output_type": "stream",
     "text": [
      "['tokyo', 'nagoya', 'san francisco', 'orlando', 'paris'] \n",
      "\n",
      "['nagoya', 'orlando', 'paris', 'san francisco', 'tokyo']\n",
      "\n",
      "['tokyo', 'san francisco', 'paris', 'orlando', 'nagoya']\n",
      "\n",
      "['paris', 'orlando', 'san francisco', 'nagoya', 'tokyo'] \n",
      "\n",
      "['nagoya', 'orlando', 'paris', 'san francisco', 'tokyo'] \n",
      "\n",
      "['tokyo', 'san francisco', 'paris', 'orlando', 'nagoya'] \n",
      "\n",
      "5\n"
     ]
    }
   ],
   "source": [
    "cidades = [\"tokyo\", \"nagoya\", \"san francisco\", \"orlando\", \"paris\"]\n",
    "print(f\"{cidades} \\n\")\n",
    "\n",
    "print(sorted(cidades)) #ordena em ordem alfabetica temporariamente\n",
    "print(\"\")\n",
    "\n",
    "print(sorted(cidades, reverse=True)) #reverte a ordem alfabetica temporariamente\n",
    "print(\"\")\n",
    "\n",
    "cidades.reverse() #reverte a ordem original\n",
    "print(f\"{cidades} \\n\")\n",
    "\n",
    "cidades.sort() #ordena em ordem alfabetica definitivamente\n",
    "print(f\"{cidades} \\n\")\n",
    "\n",
    "cidades.sort(reverse=True) #reverte a ordem alfabetica definitivamente\n",
    "print(f\"{cidades} \\n\")\n",
    "\n",
    "print(len(cidades))"
   ]
  },
  {
   "cell_type": "markdown",
   "metadata": {},
   "source": [
    "## **Trabalhando com listas**\n",
    "### for"
   ]
  },
  {
   "cell_type": "code",
   "execution_count": 21,
   "metadata": {},
   "outputs": [
    {
     "name": "stdout",
     "output_type": "stream",
     "text": [
      "alice\n",
      "bernardo\n",
      "david\n",
      "carolina\n"
     ]
    }
   ],
   "source": [
    "magicians = [\"alice\", \"bernardo\", \"david\", \"carolina\"]\n",
    "\n",
    "for magician in magicians:\n",
    "    print(magician)"
   ]
  },
  {
   "cell_type": "markdown",
   "metadata": {},
   "source": [
    "Função range() facilita gerar uma serie de numeros. "
   ]
  },
  {
   "cell_type": "code",
   "execution_count": 22,
   "metadata": {},
   "outputs": [
    {
     "name": "stdout",
     "output_type": "stream",
     "text": [
      "0\n",
      "1\n",
      "2\n",
      "3\n",
      "4\n",
      "5\n",
      "[0, 1, 2, 3, 4, 5]\n",
      "[2, 4, 6, 8, 10, 12, 14]\n"
     ]
    }
   ],
   "source": [
    "for value in range(6): #informa numeros de forma sequencial\n",
    "    print(value)\n",
    "\n",
    "print(list(range(6))) #cria uma lista com os valores do range\n",
    "\n",
    "numeros_pares = list(range(2,15,2)) #printa numeros pares, partindo de 2, vai até o 15, pulando de 2 em 2\n",
    "print(numeros_pares)"
   ]
  },
  {
   "cell_type": "markdown",
   "metadata": {},
   "source": [
    "Exibindo os primeiros 10 quadrados perfeitos"
   ]
  },
  {
   "cell_type": "code",
   "execution_count": 23,
   "metadata": {},
   "outputs": [
    {
     "name": "stdout",
     "output_type": "stream",
     "text": [
      "10\n",
      "[1, 4, 9, 16, 25, 36, 49, 64, 81, 100]\n"
     ]
    }
   ],
   "source": [
    "quadrados = []\n",
    "for value in range(1,11):\n",
    "    quadrados.append(value**2)\n",
    "\n",
    "print(len(quadrados))\n",
    "print(quadrados)"
   ]
  },
  {
   "cell_type": "markdown",
   "metadata": {},
   "source": [
    "Funções numericas para listas"
   ]
  },
  {
   "cell_type": "code",
   "execution_count": 24,
   "metadata": {},
   "outputs": [
    {
     "name": "stdout",
     "output_type": "stream",
     "text": [
      "1\n",
      "100\n",
      "385\n"
     ]
    }
   ],
   "source": [
    "print(min(quadrados)) #printa o menor valor da lista\n",
    "print(max(quadrados)) #printa o maior valor da lista\n",
    "print(sum(quadrados)) #printa a soma dos valores da lista"
   ]
  },
  {
   "cell_type": "markdown",
   "metadata": {},
   "source": [
    "### List Comprehensions (abrangencia de listas)\n",
    "Combina o laço for e a criação de novos elementos em uma unica linha. O codigo a seguir cria os numeros quadrados de uma sequencia, como feito anteriormente, porem em apenas uma unica linha.\n",
    "\n",
    "\"\"\"Para usar esta sintaxe, devemos começar com um nme descritivo para a lista/variavel. Em seguida, inserimos um colchetes de abertura e definimos a expressão para os valores. Então escrevemos o laço de repetição for que irá gerar a lista. Neste caso não se faz necessario o uso de \":\" no final do laço.\"\"\"\n"
   ]
  },
  {
   "cell_type": "code",
   "execution_count": 25,
   "metadata": {},
   "outputs": [
    {
     "name": "stdout",
     "output_type": "stream",
     "text": [
      "[1, 4, 9, 16, 25, 36, 49, 64, 81, 100]\n"
     ]
    }
   ],
   "source": [
    "squares = [value**2 for value in range(1,11)]\n",
    "print(squares)"
   ]
  },
  {
   "cell_type": "code",
   "execution_count": 26,
   "metadata": {},
   "outputs": [
    {
     "name": "stdout",
     "output_type": "stream",
     "text": [
      "[3, 5, 7, 9, 11, 13, 15, 17, 19, 21]\n"
     ]
    }
   ],
   "source": [
    "impares = [value + 1 for value in range(2,22,2)]\n",
    "print(impares)"
   ]
  },
  {
   "cell_type": "markdown",
   "metadata": {},
   "source": [
    "### Slicing\n",
    "Para o fatiamento de listas devemos fornecer o primeiro e/ou ultimo item da lista os quais queremos fatiar"
   ]
  },
  {
   "cell_type": "code",
   "execution_count": 27,
   "metadata": {},
   "outputs": [
    {
     "name": "stdout",
     "output_type": "stream",
     "text": [
      "['charles', 'martina', 'michael']\n",
      "['michael', 'florence', 'eli']\n",
      "['charles', 'martina']\n",
      "charles\n",
      "martina\n",
      "michael\n",
      "['charles', 'martina', 'michael']\n"
     ]
    }
   ],
   "source": [
    "players = ['charles', 'martina', 'michael', 'florence', 'eli']\n",
    "print(players[:3])\n",
    "print(players[2:6])\n",
    "print(players[:-3])\n",
    "\n",
    "#percorrendo uma fatia com loop for\n",
    "for player in players[:3]:\n",
    "    print(player)\n",
    "\n",
    "#usando compreensão de listas\n",
    "jog = [player for player in players[:3]]\n",
    "print(jog)"
   ]
  },
  {
   "cell_type": "markdown",
   "metadata": {},
   "source": [
    "### Copiando listas"
   ]
  },
  {
   "cell_type": "code",
   "execution_count": 28,
   "metadata": {},
   "outputs": [
    {
     "name": "stdout",
     "output_type": "stream",
     "text": [
      "['pizza', 'falafel', 'carrot cake']\n"
     ]
    }
   ],
   "source": [
    "my_foods = ['pizza', 'falafel', 'carrot cake']\n",
    "friend_foods = my_foods[:] \n",
    "print(friend_foods)"
   ]
  },
  {
   "cell_type": "markdown",
   "metadata": {},
   "source": [
    "## **Tuplas**\n",
    "São excelentes para armazenar conjuntos de itens que não podem mudar ao decorrer do programa. Sendo assim estes tipos de dados são chamados de imutaveis, uma vez que não podem ser alterados.\n",
    "Tuplas se parecem muito com listas, exceto por usarem parenteses ao inves de colchetes. Sendo assim podemos acessar cada um de seus elementos através de seus indices assim como fariamos em listas.\n",
    "\n",
    "Por exemplo, se possuimos um retangulo que tem dimensões que não podem mudar, podemos definir suas dimensões com tuplas."
   ]
  },
  {
   "cell_type": "code",
   "execution_count": 29,
   "metadata": {},
   "outputs": [
    {
     "name": "stdout",
     "output_type": "stream",
     "text": [
      "200\n",
      "50\n"
     ]
    }
   ],
   "source": [
    "dimensions = (200, 50)\n",
    "print(dimensions[0])\n",
    "print(dimensions[1])"
   ]
  },
  {
   "cell_type": "code",
   "execution_count": 30,
   "metadata": {},
   "outputs": [
    {
     "name": "stdout",
     "output_type": "stream",
     "text": [
      "Bem vindo ao Buffet! A seguir os pratos disponiveis:\n",
      "Pizza\n",
      "Lasanha\n",
      "Ostra Gratinada\n",
      "Rocambole\n",
      "Mariscos\n"
     ]
    }
   ],
   "source": [
    "print(\"Bem vindo ao Buffet! A seguir os pratos disponiveis:\")\n",
    "pratos = (\"Pizza\", \"Lasanha\", \"Ostra Gratinada\", \"Rocambole\", \"Mariscos\")\n",
    "\n",
    "for prato in pratos:\n",
    "    print(prato)\n",
    "\n",
    "#pratos[0] = \"Bolonhesa\" #erro gerado ao tentar alterar tupla"
   ]
  },
  {
   "cell_type": "markdown",
   "metadata": {},
   "source": [
    "## **Dicionários**\n",
    "Dicionarios nos permitem adicionar inumeros valores a uma determinada variavel, exatamente como acontece em um dicionario da vida real, onde uma mesma palavra pode conter inumero significados diferentes."
   ]
  },
  {
   "cell_type": "code",
   "execution_count": 31,
   "metadata": {},
   "outputs": [
    {
     "name": "stdout",
     "output_type": "stream",
     "text": [
      "green\n"
     ]
    }
   ],
   "source": [
    "alien_0 = {\"color\":\"green\", \"points\":5}\n",
    "print(alien_0[\"color\"])"
   ]
  },
  {
   "cell_type": "markdown",
   "metadata": {},
   "source": [
    "### Adicionando valores\n",
    "Para adicionar novos valores a um dicinario, basta mencionar o nome do dicionario e entre colchetes o novo valor que quer adicionar, seguido do par chave após o sinal de igual."
   ]
  },
  {
   "cell_type": "code",
   "execution_count": 32,
   "metadata": {},
   "outputs": [
    {
     "name": "stdout",
     "output_type": "stream",
     "text": [
      "{'color': 'green', 'points': 5, 'raça': 'Pleiadiano', 'x_position': 0, 'y_position': 25}\n"
     ]
    }
   ],
   "source": [
    "alien_0[\"raça\"] = \"Pleiadiano\"\n",
    "alien_0[\"x_position\"] = 0\n",
    "alien_0[\"y_position\"] = 25\n",
    "\n",
    "print(alien_0)"
   ]
  },
  {
   "cell_type": "markdown",
   "metadata": {},
   "source": [
    "### Criando um dicionario vazio"
   ]
  },
  {
   "cell_type": "code",
   "execution_count": 33,
   "metadata": {},
   "outputs": [
    {
     "name": "stdout",
     "output_type": "stream",
     "text": [
      "{'color': 'Blue', 'points': 10}\n"
     ]
    }
   ],
   "source": [
    "alien_1 = {}\n",
    "alien_1[\"color\"] = \"Blue\"\n",
    "alien_1[\"points\"] = 10\n",
    "print(alien_1)"
   ]
  },
  {
   "cell_type": "markdown",
   "metadata": {},
   "source": [
    "### Alterando um item do dicionario\n",
    "Basta indicar o nome do dicionario, a chave que quer alterar e então o novo valor."
   ]
  },
  {
   "cell_type": "code",
   "execution_count": 34,
   "metadata": {},
   "outputs": [
    {
     "name": "stdout",
     "output_type": "stream",
     "text": [
      "{'color': 'Yellow', 'points': 5, 'raça': 'Pleiadiano', 'x_position': 0, 'y_position': 25}\n"
     ]
    }
   ],
   "source": [
    "alien_0[\"color\"] = \"Yellow\"\n",
    "print(alien_0)"
   ]
  },
  {
   "cell_type": "code",
   "execution_count": 35,
   "metadata": {},
   "outputs": [
    {
     "name": "stdout",
     "output_type": "stream",
     "text": [
      "Original x-position: 0\n",
      "{'color': 'Yellow', 'points': 5, 'raça': 'Pleiadiano', 'x_position': 2, 'y_position': 25, 'speed': 'medium'}\n"
     ]
    }
   ],
   "source": [
    "alien_0[\"speed\"] = \"medium\"\n",
    "print(\"Original x-position: \" + str(alien_0[\"x_position\"]))\n",
    "\n",
    "if alien_0[\"speed\"] == \"slow\":\n",
    "    x_increment = 1\n",
    "elif alien_0[\"speed\"] == \"medium\":\n",
    "    x_increment = 2\n",
    "else:\n",
    "    x_increment = 3\n",
    "\n",
    "alien_0[\"x_position\"] = alien_0[\"x_position\"] + x_increment\n",
    "print(alien_0)"
   ]
  },
  {
   "cell_type": "markdown",
   "metadata": {},
   "source": [
    "### Removendo pares chave-valor"
   ]
  },
  {
   "cell_type": "code",
   "execution_count": 36,
   "metadata": {},
   "outputs": [
    {
     "name": "stdout",
     "output_type": "stream",
     "text": [
      "{'color': 'Yellow', 'raça': 'Pleiadiano', 'x_position': 2, 'y_position': 25, 'speed': 'medium'}\n"
     ]
    }
   ],
   "source": [
    "del alien_0[\"points\"]\n",
    "print(alien_0)"
   ]
  },
  {
   "cell_type": "code",
   "execution_count": 37,
   "metadata": {},
   "outputs": [
    {
     "name": "stdout",
     "output_type": "stream",
     "text": [
      "A liguagem de programação favorita de Sarah é: C\n"
     ]
    }
   ],
   "source": [
    "favorite_languages = {\n",
    " 'jen': 'python',\n",
    " 'sarah': 'c',\n",
    " 'edward': 'ruby',\n",
    " 'phil': 'python',\n",
    " }\n",
    "\n",
    "print(\"A liguagem de programação favorita de Sarah é: \" + favorite_languages[\"sarah\"].title())"
   ]
  },
  {
   "cell_type": "markdown",
   "metadata": {},
   "source": [
    "### Acessando um dicionario com varios dicionarios e listas aninhados"
   ]
  },
  {
   "cell_type": "code",
   "execution_count": 38,
   "metadata": {},
   "outputs": [
    {
     "name": "stdout",
     "output_type": "stream",
     "text": [
      "Rua dos Pinheiros (11) 1234-5678\n"
     ]
    }
   ],
   "source": [
    "pessoas = {\n",
    "    \"João\": {\n",
    "        \"idade\": 25,\n",
    "        \"profissão\": \"Desenvolvedor\",\n",
    "        \"endereços\": [\n",
    "            {\"rua\": \"Rua dos Pinheiros\", \"cidade\": \"São Paulo\", \"estado\": \"SP\"},\n",
    "            {\"rua\": \"Rua dos Jardins\", \"cidade\": \"São Paulo\", \"estado\": \"SP\"}\n",
    "        ],\n",
    "        \"telefones\": [\"(11) 1234-5678\", \"(11) 9876-5432\"]\n",
    "    },\n",
    "    \"Maria\": {\n",
    "        \"idade\": 30,\n",
    "        \"profissão\": \"Engenheira\",\n",
    "        \"endereços\": [\n",
    "            {\"rua\": \"Rua dos Planaltos\", \"cidade\": \"Rio de Janeiro\", \"estado\": \"RJ\"}\n",
    "        ],\n",
    "        \"telefones\": [\"(21) 1111-2222\"]\n",
    "    },\n",
    "    \"Pedro\": {\n",
    "        \"idade\": 28,\n",
    "        \"profissão\": \"Arquiteto\",\n",
    "        \"endereços\": [\n",
    "            {\"rua\": \"Rua dos Arquitetos\", \"cidade\": \"Curitiba\", \"estado\": \"PR\"},\n",
    "            {\"rua\": \"Rua dos Artistas\", \"cidade\": \"Porto Alegre\", \"estado\": \"RS\"}\n",
    "        ],\n",
    "        \"telefones\": [\"(41) 3333-4444\", \"(51) 5555-6666\"]\n",
    "    }\n",
    "}\n",
    "print(pessoas[\"João\"][\"endereços\"][0][\"rua\"],pessoas[\"João\"][\"telefones\"][0])"
   ]
  },
  {
   "cell_type": "markdown",
   "metadata": {},
   "source": [
    "### Percorrendo dicionarios com laços"
   ]
  },
  {
   "cell_type": "code",
   "execution_count": 39,
   "metadata": {},
   "outputs": [
    {
     "name": "stdout",
     "output_type": "stream",
     "text": [
      "\n",
      "Key: username\n",
      "Value: Efermi\n",
      "\n",
      "Key: first\n",
      "Value: Enrico\n",
      "\n",
      "Key: last\n",
      "Value: Fermi\n"
     ]
    }
   ],
   "source": [
    "user_0 = {\n",
    "    \"username\": \"Efermi\",\n",
    "    \"first\": \"Enrico\",\n",
    "    \"last\": \"Fermi\",\n",
    "}\n",
    "\n",
    "for key,value in user_0.items():\n",
    "    print(\"\\nKey: \" + key)\n",
    "    print(\"Value: \" + value)"
   ]
  },
  {
   "cell_type": "code",
   "execution_count": 40,
   "metadata": {},
   "outputs": [
    {
     "name": "stdout",
     "output_type": "stream",
     "text": [
      "Jen's favorite language is Python\n",
      "Sarah's favorite language is C\n",
      "Edward's favorite language is Ruby\n",
      "Phil's favorite language is Python\n"
     ]
    }
   ],
   "source": [
    "for name, linguagem in favorite_languages.items():\n",
    "    print(name.title() + \"'s favorite language is \" + linguagem.title())"
   ]
  },
  {
   "cell_type": "markdown",
   "metadata": {},
   "source": [
    "### Percorrendo todas as chaves de um dicionario com um laço e método .keys()\n",
    "O método keys é muito conveniente quando preciamos percorrer apenas os valores do dicionario, sem importar com seus valores chaves.\n",
    "Mas na verdade é um procedimento padrão de dicionarios percorer apenas o valor chave, sendo assim não seria necesssario usar o keys()"
   ]
  },
  {
   "cell_type": "code",
   "execution_count": 41,
   "metadata": {},
   "outputs": [
    {
     "name": "stdout",
     "output_type": "stream",
     "text": [
      "jen\n",
      "sarah\n",
      "edward\n",
      "phil\n",
      "Jen\n",
      "Sarah\n",
      "\n",
      "Hi Sarah sua linguagem favorita é: C\n",
      "Edward\n",
      "Phil\n",
      "\n",
      "Hi Phil sua linguagem favorita é: Python\n"
     ]
    }
   ],
   "source": [
    "for name in favorite_languages.keys():\n",
    "    print(name)\n",
    "\n",
    "friends = [\"phil\", \"sarah\"]\n",
    "for name in favorite_languages:\n",
    "    print(name.title())\n",
    "    if name in friends:\n",
    "        print(\"\\nHi \"+ name.title() + \" sua linguagem favorita é: \" + favorite_languages[name].title())"
   ]
  },
  {
   "cell_type": "markdown",
   "metadata": {},
   "source": [
    "###  Percorrendo as chaves de um dicionário em ordem usando um laço"
   ]
  },
  {
   "cell_type": "code",
   "execution_count": 42,
   "metadata": {},
   "outputs": [
    {
     "name": "stdout",
     "output_type": "stream",
     "text": [
      "Edward, thank you for talking the poll.\n",
      "Jen, thank you for talking the poll.\n",
      "Phil, thank you for talking the poll.\n",
      "Sarah, thank you for talking the poll.\n"
     ]
    }
   ],
   "source": [
    "favorite_languages = {\n",
    " 'jen': 'python',\n",
    " 'sarah': 'c',\n",
    " 'edward': 'ruby',\n",
    " 'phil': 'python',\n",
    " }\n",
    "\n",
    "for name in sorted(favorite_languages.keys()):\n",
    "    print(name.title() + \", thank you for talking the poll.\")"
   ]
  },
  {
   "cell_type": "markdown",
   "metadata": {},
   "source": [
    "### Percorrendo todos os valores de um dicionário com um laço\n",
    "Se você estiver mais interessado nos valores contidos em um dicionário, o método values() pode ser usado para devolver uma lista de valores sem as chaves. Por exemplo, suponha que queremos apenas uma lista de todas as linguagens escolhidas em nossa enquete sobre linguagens de programação, sem o nome da pessoa que escolheu cada linguagem:"
   ]
  },
  {
   "cell_type": "code",
   "execution_count": 43,
   "metadata": {},
   "outputs": [
    {
     "name": "stdout",
     "output_type": "stream",
     "text": [
      "As linguagens escolhidas foram: Python\n",
      "As linguagens escolhidas foram: C\n",
      "As linguagens escolhidas foram: Ruby\n",
      "As linguagens escolhidas foram: Python\n"
     ]
    }
   ],
   "source": [
    "for valor in favorite_languages.values():\n",
    "    print(\"As linguagens escolhidas foram: \" + valor.title())"
   ]
  },
  {
   "cell_type": "markdown",
   "metadata": {},
   "source": [
    "A abordagem anterior funciona muito bem para listas pequena, mas supondo que teriamos uma lista gigante, não seria nada agradavel verificar que existem varios valores repetidos. Sendo assim, podemos usar um conjunto set(). Um conjunto é semelhante a uma lista, exceto que cada item de um conjunto deve ser único.\n",
    "Quando colocamos set() em torno de uma lista, python verifica que existem itens repetidos, e então cria uma lista apenas com itens únicos."
   ]
  },
  {
   "cell_type": "code",
   "execution_count": 44,
   "metadata": {},
   "outputs": [
    {
     "name": "stdout",
     "output_type": "stream",
     "text": [
      "As linguagens escolhidas foram: Ruby\n",
      "As linguagens escolhidas foram: C\n",
      "As linguagens escolhidas foram: Python\n"
     ]
    }
   ],
   "source": [
    "for linguage in set(favorite_languages.values()):\n",
    "    print(\"As linguagens escolhidas foram: \" + linguage.title())"
   ]
  },
  {
   "cell_type": "markdown",
   "metadata": {},
   "source": [
    "### Informações aninhadas"
   ]
  },
  {
   "cell_type": "code",
   "execution_count": 45,
   "metadata": {},
   "outputs": [
    {
     "name": "stdout",
     "output_type": "stream",
     "text": [
      "{'color': 'green', 'points': 5}\n",
      "{'color': 'yellow', 'points': 10}\n",
      "{'color': 'red', 'points': 15}\n"
     ]
    }
   ],
   "source": [
    "alien_0 = {'color': 'green', 'points': 5}\n",
    "alien_1 = {'color': 'yellow', 'points': 10}\n",
    "alien_2 = {'color': 'red', 'points': 15}\n",
    "\n",
    "aliens = [alien_0, alien_1, alien_2]\n",
    "for alien in aliens:\n",
    "    print(alien)"
   ]
  },
  {
   "cell_type": "code",
   "execution_count": 46,
   "metadata": {},
   "outputs": [
    {
     "name": "stdout",
     "output_type": "stream",
     "text": [
      "30\n"
     ]
    }
   ],
   "source": [
    "aliens = []\n",
    "for alien_number in range(30):\n",
    "    new_alien = {'color': 'green', 'points': 5, 'speed': 'slow'}\n",
    "    aliens.append(new_alien)\n",
    "\n",
    "print(len(aliens))"
   ]
  },
  {
   "cell_type": "code",
   "execution_count": 47,
   "metadata": {},
   "outputs": [
    {
     "name": "stdout",
     "output_type": "stream",
     "text": [
      "{'color': 'yellow', 'points': 10, 'speed': 'medium'}\n",
      "{'color': 'green', 'points': 5, 'speed': 'slow'}\n",
      "{'color': 'green', 'points': 5, 'speed': 'slow'}\n",
      "{'color': 'green', 'points': 5, 'speed': 'slow'}\n",
      "{'color': 'green', 'points': 5, 'speed': 'slow'}\n",
      "{'color': 'green', 'points': 5, 'speed': 'slow'}\n",
      "{'color': 'yellow', 'points': 10, 'speed': 'medium'}\n",
      "{'color': 'green', 'points': 5, 'speed': 'slow'}\n",
      "{'color': 'green', 'points': 5, 'speed': 'slow'}\n",
      "{'color': 'green', 'points': 5, 'speed': 'slow'}\n",
      "{'color': 'green', 'points': 5, 'speed': 'slow'}\n",
      "{'color': 'green', 'points': 5, 'speed': 'slow'}\n",
      "{'color': 'yellow', 'points': 10, 'speed': 'medium'}\n",
      "{'color': 'green', 'points': 5, 'speed': 'slow'}\n",
      "{'color': 'green', 'points': 5, 'speed': 'slow'}\n",
      "{'color': 'green', 'points': 5, 'speed': 'slow'}\n",
      "{'color': 'green', 'points': 5, 'speed': 'slow'}\n",
      "{'color': 'green', 'points': 5, 'speed': 'slow'}\n",
      "{'color': 'yellow', 'points': 10, 'speed': 'medium'}\n",
      "{'color': 'green', 'points': 5, 'speed': 'slow'}\n",
      "{'color': 'green', 'points': 5, 'speed': 'slow'}\n",
      "{'color': 'green', 'points': 5, 'speed': 'slow'}\n",
      "{'color': 'green', 'points': 5, 'speed': 'slow'}\n",
      "{'color': 'green', 'points': 5, 'speed': 'slow'}\n",
      "{'color': 'yellow', 'points': 10, 'speed': 'medium'}\n",
      "{'color': 'green', 'points': 5, 'speed': 'slow'}\n",
      "{'color': 'green', 'points': 5, 'speed': 'slow'}\n",
      "{'color': 'green', 'points': 5, 'speed': 'slow'}\n",
      "{'color': 'green', 'points': 5, 'speed': 'slow'}\n",
      "{'color': 'green', 'points': 5, 'speed': 'slow'}\n"
     ]
    }
   ],
   "source": [
    "for alien in aliens[::6]:\n",
    "    if alien[\"color\"] == \"green\":\n",
    "        alien[\"color\"] = \"yellow\"\n",
    "        alien[\"points\"] = 10\n",
    "        alien[\"speed\"] = \"medium\"\n",
    "\n",
    "for alien in aliens[0:]:\n",
    "    print(alien)"
   ]
  },
  {
   "cell_type": "code",
   "execution_count": 48,
   "metadata": {},
   "outputs": [
    {
     "name": "stdout",
     "output_type": "stream",
     "text": [
      "Sua ordem é thick-crust pizza whith the following toppings:\n",
      "\tmushroons\n",
      "\textra cheese\n"
     ]
    }
   ],
   "source": [
    "pizza = {\n",
    "    \"crust\":\"thick\",\n",
    "    \"toppings\":[\"mushroons\", \"extra cheese\"]\n",
    "}\n",
    "\n",
    "print((\"Sua ordem é \" + pizza[\"crust\"] + \"-crust pizza \" + \"whith the following toppings:\"))\n",
    "\n",
    "\n",
    "for topping in pizza[\"toppings\"]:\n",
    "    print(\"\\t\"+topping)"
   ]
  },
  {
   "cell_type": "code",
   "execution_count": 49,
   "metadata": {},
   "outputs": [
    {
     "name": "stdout",
     "output_type": "stream",
     "text": [
      "\n",
      "Jen's favorite languages are:\n",
      "\tpython\n",
      "\truby\n",
      "\n",
      "Sarah's favorite languages are:\n",
      "\tc\n",
      "\n",
      "Edward's favorite languages are:\n",
      "\truby\n",
      "\tgo\n",
      "\n",
      "Phil's favorite languages are:\n",
      "\tpython\n",
      "\thaskell\n"
     ]
    }
   ],
   "source": [
    "favorite_languages = {\n",
    " 'jen': ['python', 'ruby'],\n",
    " 'sarah': ['c'],\n",
    " 'edward': ['ruby', 'go'],\n",
    " 'phil': ['python', 'haskell'],\n",
    " }\n",
    "\n",
    "for name, languages in favorite_languages.items():\n",
    "    print(\"\\n\" + name.title() + \"'s favorite languages are:\")\n",
    "    for language in languages:\n",
    "        print(\"\\t\" + language)"
   ]
  },
  {
   "cell_type": "markdown",
   "metadata": {},
   "source": [
    "### Um dicionario em um dicionario"
   ]
  },
  {
   "cell_type": "markdown",
   "metadata": {},
   "source": [
    "Quando trabalharmos com mais de um dicionari ao mesmo tempo, a chave pai (username) itera sobre o primeiro dicionario (users), para então, a segunda variavel do laço (user_info) armazenar todas as informações referentes a informações dos usuarios."
   ]
  },
  {
   "cell_type": "code",
   "execution_count": 50,
   "metadata": {},
   "outputs": [
    {
     "name": "stdout",
     "output_type": "stream",
     "text": [
      "\n",
      "User_name: Ainstein\n",
      "\tFull name: Albert Einstein\n",
      "\tLocation: Princeton\n",
      "\n",
      "User_name: Mcurie\n",
      "\tFull name: Marie Mercurie\n",
      "\tLocation: Paris\n"
     ]
    }
   ],
   "source": [
    "users = {\n",
    "    \"Ainstein\":{\n",
    "        \"first\":\"Albert\",\n",
    "        \"last\":\"Einstein\",\n",
    "        \"location\":\"Princeton\"\n",
    "    },\n",
    "    \"Mcurie\":{\n",
    "        \"first\":\"Marie\",\n",
    "        \"last\":\"Mercurie\",\n",
    "        \"location\":\"Paris\"\n",
    "    }\n",
    "}\n",
    "\n",
    "for username, user_info in users.items():\n",
    "    print(\"\\nUser_name: \"+ username)\n",
    "    full_name = user_info[\"first\"] + \" \" + user_info[\"last\"]\n",
    "    location = user_info[\"location\"]\n",
    "\n",
    "    print(\"\\tFull name: \" + full_name)\n",
    "    print(\"\\tLocation: \" + location)"
   ]
  },
  {
   "cell_type": "markdown",
   "metadata": {},
   "source": [
    "## **Entradas do usuário e Laços While**\n",
    "Muito úteis para trabalhar com dados de entrada do usuário e controlar o tempo que seus programas executam. Diferente dos laços (for), os laços (while) executam enquanto uma informação for verdadeira ou durante um periodo de tempo."
   ]
  },
  {
   "cell_type": "code",
   "execution_count": 51,
   "metadata": {},
   "outputs": [
    {
     "name": "stdout",
     "output_type": "stream",
     "text": [
      "1\n",
      "2\n",
      "3\n",
      "4\n",
      "5\n",
      "55\n",
      "quit\n"
     ]
    }
   ],
   "source": [
    "current_number = 1\n",
    "while current_number <= 5:\n",
    "    print(current_number)\n",
    "    current_number += 1\n",
    "\n",
    "#sair até o usuario decidir\n",
    "prompt = \"\\nTell me something, and I will repeat it back to you:\"\n",
    "prompt += \"\\nEnter 'quit' to end the program. \"\n",
    "\n",
    "message = \"\"\n",
    "while message != \"quit\":\n",
    "    message = input(prompt)\n",
    "    print(message)"
   ]
  },
  {
   "cell_type": "markdown",
   "metadata": {},
   "source": [
    "#### Utilizando Flags\n",
    "Normalmente utilizada quando existem muitas condições a serem verificadas para um programa poder executar.  Para um programa que deva executar somente enquanto muitas condições forem verdadeiras, podemos definir uma variável que determina se o programa como um todo deve estar ativo. Essa variavel é chamada ***flag***. Podemos escrever nossos programas de modo que executem enquanto a flag estiver definida com True e parem de executar quando qualquer um dos vários eventos definir o valor da flag com False."
   ]
  },
  {
   "cell_type": "code",
   "execution_count": 52,
   "metadata": {},
   "outputs": [],
   "source": [
    "prompt = \"\\nTell me something, and I will repeat it back to you:\"\n",
    "prompt += \"\\nEnter 'quit' to end the program. \"\n",
    "\n",
    "active = True\n",
    "while active:\n",
    "    message = input(prompt)\n",
    "\n",
    "    if message == \"quit\":\n",
    "        active = False\n",
    "    else:\n",
    "        print(message)"
   ]
  },
  {
   "cell_type": "markdown",
   "metadata": {},
   "source": [
    "#### Break\n",
    "Para sair de um laço while de imediato, sem executar qualquer código restante no laço, independentemente do resultado de qualquer teste condicional, utilize a instrução break."
   ]
  },
  {
   "cell_type": "code",
   "execution_count": 53,
   "metadata": {},
   "outputs": [],
   "source": [
    "prompt = \"\\nPlease enter the name of a city you have visited:\"\n",
    "prompt += \"\\n(Enter 'quit' when you are finished.)\"\n",
    "\n",
    "while True:\n",
    "    city = input(prompt)\n",
    "\n",
    "    if city == \"quit\":\n",
    "        break\n",
    "    else:\n",
    "        print(\"I'd love to go to \"+ city.title() + \"!\")"
   ]
  },
  {
   "cell_type": "markdown",
   "metadata": {},
   "source": [
    "#### Continue \n",
    " Em vez de sair totalmente de um laço sem executar o restante de seu código, podemos usar a instrução continue para retornar ao início, com base no resultado de um teste condicional. Por exemplo, considere um laço que conte de 1 a 10, mas apresente apenas os números ímpares desse intervalo:"
   ]
  },
  {
   "cell_type": "code",
   "execution_count": 54,
   "metadata": {},
   "outputs": [
    {
     "name": "stdout",
     "output_type": "stream",
     "text": [
      "1\n",
      "3\n",
      "5\n",
      "7\n",
      "9\n"
     ]
    }
   ],
   "source": [
    "current_number = 0\n",
    "while current_number < 10:\n",
    "    current_number += 1\n",
    "    if current_number % 2 == 0:\n",
    "        continue\n",
    "    print(current_number)"
   ]
  },
  {
   "cell_type": "markdown",
   "metadata": {},
   "source": [
    "#### Exercicios"
   ]
  },
  {
   "cell_type": "code",
   "execution_count": 55,
   "metadata": {},
   "outputs": [
    {
     "name": "stdout",
     "output_type": "stream",
     "text": [
      "Seu ingresso custa $15,00!\n",
      "Obrigado pela presença!\n"
     ]
    }
   ],
   "source": [
    "ingressos = True\n",
    "\n",
    "while ingressos:\n",
    "    idade = input(\"Qual sua idade? (Digite 'quit' para sair)\")\n",
    "    \n",
    "    if idade.isdigit():\n",
    "        idade = int(idade)\n",
    "        if idade < 3:\n",
    "            print(\"Sua entrada é gratuita, aproveite!\")\n",
    "        elif idade < 12:\n",
    "            print(\"Sua entrada custa $10,00!\")\n",
    "        else:\n",
    "            print(\"Seu ingresso custa $15,00!\")\n",
    "\n",
    "    elif idade == \"quit\":\n",
    "        print(\"Obrigado pela presença!\")\n",
    "        ingressos = False\n",
    "\n",
    "    else:\n",
    "        print(\"Digite apenas numeros!\")\n",
    "        continue"
   ]
  },
  {
   "cell_type": "markdown",
   "metadata": {},
   "source": [
    "####  Usando um laço while com listas e dicionários\n",
    "Para controlar muitos usuários e informações, precisaremos usar listas e dicionários com nossos laços while.\n",
    "Um laço for é eficiente para percorrer uma lista, mas você não deve modificar uma lista em um laço for, pois Python terá problemas para manter o controle dos itens da lista. Para modificar uma lista enquanto trabalhar com ela, utilize um laço while. Usar laços while com listas e dicionários permite coletar, armazenar e organizar muitas entradas a fim de analisá-las e apresentá-las posteriormente."
   ]
  },
  {
   "cell_type": "code",
   "execution_count": 56,
   "metadata": {},
   "outputs": [
    {
     "name": "stdout",
     "output_type": "stream",
     "text": [
      "Verifying user: Candace\n",
      "\n",
      "The following users have been confirmed:\n",
      "Candace\n",
      "Verifying user: Brian\n",
      "\n",
      "The following users have been confirmed:\n",
      "Candace\n",
      "Brian\n",
      "Verifying user: Alice\n",
      "\n",
      "The following users have been confirmed:\n",
      "Candace\n",
      "Brian\n",
      "Alice\n"
     ]
    }
   ],
   "source": [
    "unconfirmed_users = ['alice', 'brian', 'candace']\n",
    "confirmed_users = []\n",
    "\n",
    "while unconfirmed_users: \n",
    "    current_user = unconfirmed_users.pop()    \n",
    "    print(\"Verifying user: \" + current_user.title())\n",
    "    confirmed_users.append(current_user)\n",
    "\n",
    "    print(\"\\nThe following users have been confirmed:\")\n",
    "    for confirmed_user in confirmed_users:\n",
    "        print(confirmed_user.title())"
   ]
  },
  {
   "cell_type": "markdown",
   "metadata": {},
   "source": [
    "#### Removendo todas as instâncias de valores específicos de uma lista\n",
    "Usamos remove() para remover um valor específico de uma lista. A função remove() é apropriada quando o valor em que estamos interessados aparecia apenas uma vez na lista. Porém, e se quiséssemos remover da lista todas as instâncias de um valor?\n",
    "Suponha que tenhamos uma lista de animais de estimação com o valor 'cat' repetido várias vezes. Para remover todas as instâncias desse valor, podemos executar um laço while até 'cat' não estar mais na lista, como vemos aqui:"
   ]
  },
  {
   "cell_type": "code",
   "execution_count": 57,
   "metadata": {},
   "outputs": [
    {
     "name": "stdout",
     "output_type": "stream",
     "text": [
      "['dog', 'cat', 'dog', 'goldfish', 'cat', 'rabbit', 'cat']\n",
      "['dog', 'dog', 'goldfish', 'rabbit']\n"
     ]
    }
   ],
   "source": [
    "pets = ['dog', 'cat', 'dog', 'goldfish', 'cat', 'rabbit', 'cat']\n",
    "print(pets)\n",
    "\n",
    "while \"cat\" in pets:\n",
    "    pets.remove(\"cat\")\n",
    "\n",
    "print(pets)"
   ]
  },
  {
   "cell_type": "markdown",
   "metadata": {},
   "source": [
    "####  Preenchendo um dicionário com dados de entrada do usuário\n",
    "Vamos criar um programa de enquete em que cada passagem pelo laço solicita o nome do participante e uma resposta.\n",
    "Armazenaremos os dados coletados em um dicionário, pois queremos associar cada resposta a um usuário em particular:"
   ]
  },
  {
   "cell_type": "code",
   "execution_count": 58,
   "metadata": {},
   "outputs": [
    {
     "name": "stdout",
     "output_type": "stream",
     "text": [
      "\n",
      "----------Pols Results-----------\n",
      "quit gostaria de subir ff.\n",
      " gostaria de subir .\n"
     ]
    }
   ],
   "source": [
    "responses = {}\n",
    "polling_active = True\n",
    "\n",
    "while polling_active:\n",
    "    name = input(\"Qual é o seu nome?\")\n",
    "    response = input(\"Qual montanha você gostaria de escalar algum dia?\")\n",
    "\n",
    "    responses[name] = response\n",
    "    repeat = input(\"Você gostaria de deixar outra responder também?\")\n",
    "\n",
    "    if repeat == \"no\":\n",
    "        polling_active = False\n",
    "\n",
    "print(\"\\n----------Pols Results-----------\")\n",
    "for name, response in responses.items():\n",
    "    print(name + \" gostaria de subir \" + response + \".\")    "
   ]
  },
  {
   "cell_type": "code",
   "execution_count": 59,
   "metadata": {},
   "outputs": [
    {
     "name": "stdout",
     "output_type": "stream",
     "text": [
      "Adicionado o ingrediente nãoque possui caracteristicas: não\n"
     ]
    }
   ],
   "source": [
    "ingredientes = {}\n",
    "active = True\n",
    "\n",
    "while active:\n",
    "    ingrediente = input(\"Digite o p ingrediente que gostaria de adicionar:\")\n",
    "    caracteristica = input(\"Como você descreveria as caracteristicas deste ingrediente?\")\n",
    "    response = input(\"Gostaria de adicionar mais algum ingrediente?\")\n",
    "    ingredientes[ingrediente] = caracteristica\n",
    "\n",
    "    if response == \"não\":\n",
    "        active = False\n",
    "\n",
    "for i, c in ingredientes.items():\n",
    "    print(\"Adicionado o ingrediente \"+ i + \"que possui caracteristicas: \"+ c)"
   ]
  },
  {
   "cell_type": "markdown",
   "metadata": {},
   "source": [
    "## **Funções**\n",
    "Uma função é um bloco que nos permite reutilizar o codigo. \n",
    "Uma função pode não ter argumentos entre seus parenteses ou pode ter, caso tenha, obrigatoriamente atribuir um valor dentro da função ao chama-la.\n",
    "\n",
    "Na função a seguir, passamos username dentro do parenteses, o qual é chamado de parâmetro, enquanto o valor passado a este parametro ao realizar o chamamento desta função chama-se argumento."
   ]
  },
  {
   "cell_type": "code",
   "execution_count": 60,
   "metadata": {},
   "outputs": [
    {
     "name": "stdout",
     "output_type": "stream",
     "text": [
      "Hello José Terrabuio\n"
     ]
    }
   ],
   "source": [
    "def great_user(username):\n",
    "    print(\"Hello \"+ username)\n",
    "\n",
    "great_user(\"José Terrabuio\")"
   ]
  },
  {
   "cell_type": "code",
   "execution_count": 61,
   "metadata": {},
   "outputs": [
    {
     "name": "stdout",
     "output_type": "stream",
     "text": [
      "A frase estampada sera: çç, com um tamanho de: gg\n"
     ]
    }
   ],
   "source": [
    "def make_shirt(tam, frase):\n",
    "    tamanho = str(tam)\n",
    "    print(\"A frase estampada sera: \"+ frase + \", com um tamanho de: \"+ tamanho)\n",
    "\n",
    "ent = input(\"Qual o tamanho da camiseta\")\n",
    "end = input(\"Qual sera a frase estampada?\")\n",
    "\n",
    "make_shirt(ent, end)"
   ]
  },
  {
   "cell_type": "markdown",
   "metadata": {},
   "source": [
    "Valor de retorno é o valor devolvido pela função. Quando queremos deixar um parametro opcional, basta definir um if else usando uma string vazia caso não exista.\n",
    "\n",
    " Devolvendo um dicionário\n",
    " Uma função pode devolver qualquer tipo de valor necessário, incluindo\n",
    " estruturas de dados mais complexas como listas e dicionários."
   ]
  },
  {
   "cell_type": "code",
   "execution_count": 62,
   "metadata": {},
   "outputs": [
    {
     "name": "stdout",
     "output_type": "stream",
     "text": [
      "Jimi Hendrix\n",
      "John Lee Hooker\n"
     ]
    }
   ],
   "source": [
    "def get_formatted_name(first_name, last_name, middle_name=''):\n",
    "    if middle_name:\n",
    "        full_name = first_name + ' ' + middle_name + ' ' + last_name\n",
    "    else:\n",
    "        full_name = first_name + ' ' + last_name\n",
    "    return full_name.title()\n",
    " \n",
    "musician = get_formatted_name('jimi', 'hendrix')\n",
    "print(musician)\n",
    "musician = get_formatted_name('john', 'hooker', 'lee')\n",
    "print(musician)"
   ]
  },
  {
   "cell_type": "markdown",
   "metadata": {},
   "source": [
    "#### Passando uma lista para uma função\n",
    " Com frequência, você achará útil passar uma lista para uma função, seja\n",
    " uma lista de nomes, de números ou de objetos mais complexos, como\n",
    " dicionários. Se passarmos uma lista a uma função, ela terá acesso direto ao\n",
    " conteúdo dessa lista. Vamos usar funções para que o trabalho com listas\n",
    "seja mais eficiente.\n",
    " Suponha que tenhamos uma lista de usuários e queremos exibir uma\n",
    " saudação a cada um. O exemplo a seguir envia uma lista de nomes a uma\n",
    " função chamada greet_users(), que saúda cada pessoa da lista\n",
    " individualmente:"
   ]
  },
  {
   "cell_type": "code",
   "execution_count": 63,
   "metadata": {},
   "outputs": [
    {
     "name": "stdout",
     "output_type": "stream",
     "text": [
      "Hello, Hannah!\n",
      "Hello, Ty!\n",
      "Hello, Margot!\n"
     ]
    }
   ],
   "source": [
    "def greet_users(names):\n",
    "    for name in names:\n",
    "        msg = \"Hello, \" + name.title() + \"!\"\n",
    "        print(msg)\n",
    "\n",
    "usernames = ['hannah', 'ty', 'margot']\n",
    "greet_users(usernames)"
   ]
  },
  {
   "cell_type": "markdown",
   "metadata": {},
   "source": [
    "#### Passando um número arbitrário de argumentos\n",
    " Às vezes, você não saberá com antecedência quantos argumentos uma\n",
    " função deve aceitar. Felizmente, Python permite que uma função receba\n",
    " um número arbitrário de argumentos da instrução de chamada.\n",
    " Por exemplo, considere uma função que prepare uma pizza. Ela deve\n",
    " aceitar vários ingredientes, mas não é possível saber com antecedência\n",
    " quantos ingredientes uma pessoa vai querer. A função no próximo\n",
    " exemplo tem um parâmetro *toppings, mas esse parâmetro agrupa tantos\n",
    " argumentos quantos forem fornecidos na linha de chamada:\n",
    "\n",
    "  O asterisco no nome do parâmetro *toppings diz a Python para criar uma\n",
    " tupla vazia chamada toppings e reunir os valores recebidos nessa tupla. A\n",
    " instrução print no corpo da função gera uma saída que mostra que Python\n",
    " é capaz de tratar uma chamada de função com um valor e outra chamada\n",
    " com três valores. As chamadas são tratadas de modo semelhante. Observe\n",
    "que Python agrupa os argumentos em uma tupla, mesmo que a função\n",
    " receba apenas um valor:"
   ]
  },
  {
   "cell_type": "code",
   "execution_count": 64,
   "metadata": {},
   "outputs": [
    {
     "name": "stdout",
     "output_type": "stream",
     "text": [
      "\n",
      "Making a pizza with the following toppings:\n",
      "- pepperoni\n",
      "\n",
      "Making a pizza with the following toppings:\n",
      "- mushrooms\n",
      "- green peppers\n",
      "- extra cheese\n"
     ]
    }
   ],
   "source": [
    "def make_pizza(*toppings):\n",
    "    print(toppings)\n",
    "    make_pizza('pepperoni')\n",
    "    make_pizza('mushrooms', 'green peppers', 'extra cheese')\n",
    "\n",
    "def make_pizza(*toppings):\n",
    "\n",
    "    print(\"\\nMaking a pizza with the following toppings:\")\n",
    "    for topping in toppings:\n",
    "        print(\"- \" + topping)\n",
    "\n",
    "make_pizza('pepperoni')\n",
    "make_pizza('mushrooms', 'green peppers', 'extra cheese')"
   ]
  },
  {
   "cell_type": "markdown",
   "metadata": {},
   "source": [
    " #### Misturando argumentos posicionais e arbitrários\n",
    " Se quiser que uma função aceite vários tipos de argumentos, o parâmetro\n",
    " que aceita um número arbitrário de argumentos deve ser colocado por\n",
    " último na definição da função. Python faz a correspondência de\n",
    " argumentos posicionais e nomeados antes, e depois agrupa qualquer\n",
    " argumento remanescente no último parâmetro.\n",
    " Por exemplo, se a função tiver que aceitar um tamanho para a pizza, esse\n",
    " parâmetro deve estar antes do parâmetro *toppings:"
   ]
  },
  {
   "cell_type": "code",
   "execution_count": 65,
   "metadata": {},
   "outputs": [
    {
     "name": "stdout",
     "output_type": "stream",
     "text": [
      "\n",
      "Making a 16-inch pizza with the following toppings:\n",
      "- pepperoni\n",
      "\n",
      "Making a 12-inch pizza with the following toppings:\n",
      "- mushrooms\n",
      "- green peppers\n",
      "- extra cheese\n"
     ]
    }
   ],
   "source": [
    "def make_pizza(size, *toppings):\n",
    "\n",
    "    print(\"\\nMaking a \" + str(size) +\n",
    " \"-inch pizza with the following toppings:\")\n",
    "    for topping in toppings:\n",
    "        print(\"- \" + topping)\n",
    "        \n",
    "make_pizza(16, 'pepperoni')\n",
    "make_pizza(12, 'mushrooms', 'green peppers', 'extra cheese')"
   ]
  },
  {
   "cell_type": "markdown",
   "metadata": {},
   "source": [
    "#### Usando argumentos nomeados arbitrários\n",
    " Às vezes, você vai querer aceitar um número arbitrário de argumentos, mas\n",
    " não saberá com antecedência qual tipo de informação será passado para a\n",
    " função. Nesse caso, podemos escrever funções que aceitem tantos pares\n",
    " chave-valor quantos forem fornecidos pela instrução que faz a chamada.\n",
    " Um exemplo envolve criar perfis de usuários: você sabe que obterá\n",
    " informações sobre um usuário, mas não tem certeza quanto ao tipo de\n",
    " informação que receberá. A função build_profile() no próximo exemplo\n",
    " sempre aceita um primeiro nome e um sobrenome, mas aceita também um\n",
    " número arbitrário de argumentos nomeados:\n",
    "\n",
    "A definição de build_profile() espera um primeiro nome e um\n",
    " sobrenome e permite que o usuário passe tantos pares nome-valor quantos\n",
    " ele quiser. Os asteriscos duplos antes do parâmetro **user_info fazem\n",
    " Python criar um dicionário vazio chamado user_info e colocar quaisquer\n",
    " pares nome-valor recebidos nesse dicionário. Nessa função, podemos\n",
    " acessar os pares nome-valor em user_info como faríamos com qualquer\n",
    " dicionário."
   ]
  },
  {
   "cell_type": "code",
   "execution_count": 66,
   "metadata": {},
   "outputs": [
    {
     "name": "stdout",
     "output_type": "stream",
     "text": [
      "{'first_name': 'albert', 'last_name': 'einstein', 'location': 'princeton', 'field': 'physics'}\n"
     ]
    }
   ],
   "source": [
    "def build_profile(first, last, **user_info):\n",
    "\n",
    "    profile = {}\n",
    "    profile['first_name'] = first\n",
    "    profile['last_name'] = last\n",
    "    for key, value in user_info.items():\n",
    "        profile[key] = value\n",
    "    return profile\n",
    " \n",
    "user_profile = build_profile('albert', 'einstein',\n",
    "                             location='princeton',\n",
    "                             field='physics')\n",
    "print(user_profile)"
   ]
  },
  {
   "cell_type": "code",
   "execution_count": 67,
   "metadata": {},
   "outputs": [
    {
     "data": {
      "text/plain": [
       "{'cor': 'vermelho',\n",
       " 'tipo': 'esportivo',\n",
       " 'banco': 'couro',\n",
       " 'rodas': 'bbs',\n",
       " 'aerofolio': 'sim'}"
      ]
     },
     "execution_count": 67,
     "metadata": {},
     "output_type": "execute_result"
    }
   ],
   "source": [
    "escolha_car = {}\n",
    "\n",
    "def opcionais(cor, tipo, **oopcionais):\n",
    "    escolha_car[\"cor\"] = cor\n",
    "    escolha_car[\"tipo\"] = tipo\n",
    "    for key, value in oopcionais.items():\n",
    "        escolha_car[key] = value\n",
    "    return escolha_car\n",
    "\n",
    "opcionais(\"vermelho\",\"esportivo\", banco=\"couro\", rodas=\"bbs\", aerofolio=\"sim\")\n"
   ]
  },
  {
   "cell_type": "markdown",
   "metadata": {},
   "source": [
    "#### Armazenando suas funções em módulos\n",
    " Uma vantagem das funções é a maneira como elas separam blocos de\n",
    " código de seu programa principal. Ao usar nomes descritivos para suas\n",
    "funções, será bem mais fácil entender o seu programa principal. Você pode\n",
    " dar um passo além armazenando suas funções em um arquivo separado\n",
    " chamado módulo e, então, importar esse módulo em seu programa\n",
    " principal. Uma instrução import diz a Python para deixar o código de um\n",
    " módulo disponível no arquivo de programa em execução no momento.\n",
    "\n",
    "Quando Python lê esse arquivo, a linha import pizza lhe diz para abrir o\n",
    " arquivo pizza.py e copiar todas as funções dele para esse programa. Você\n",
    " não vê realmente o código sendo copiado entre os arquivos porque Python\n",
    " faz isso internamente, à medida que o programa executa. Tudo que você\n",
    " precisa saber é que qualquer função definida em main.py agora estará\n",
    " disponível em main.ipynb.\n",
    "\n",
    " Para chamar uma função que está em um módulo importado, forneça o\n",
    " nome do módulo, que é pizza nesse caso, seguido do nome da função,\n",
    " make_hotdog(), separados por um ponto. Esse código gera a mesma saída\n",
    " que o programa original, que não importava um módulo:\n",
    "\n",
    "  Essa primeira abordagem à importação, em que simplesmente\n",
    " escrevemos import seguido do nome do módulo, deixa todas as funções do\n",
    " módulo disponíveis ao seu programa. Se você usar esse tipo de instrução\n",
    " import para importar um módulo completo chamado nome_do_módulo.py,\n",
    " todas as funções do módulo estarão disponíveis por meio da sintaxe a\n",
    " seguir:\n",
    " nome_do_módulo.nome_da_função()"
   ]
  },
  {
   "cell_type": "code",
   "execution_count": 68,
   "metadata": {},
   "outputs": [
    {
     "name": "stdout",
     "output_type": "stream",
     "text": [
      "\n",
      "Making a 16-inch pizza with the following toppings:\n",
      "- peperoni\n",
      "\n",
      "Making a 12-inch pizza with the following toppings:\n",
      "- mushrooms\n",
      "- green pepers\n",
      "- extra cheese\n",
      "- ketchup\n"
     ]
    }
   ],
   "source": [
    "import main\n",
    "\n",
    "main.make_hotdog(16, 'peperoni')\n",
    "main.make_hotdog(12, 'mushrooms', \"green pepers\",\"extra cheese\",\"ketchup\")"
   ]
  },
  {
   "cell_type": "markdown",
   "metadata": {},
   "source": [
    "#### Importando funções específicas\n",
    " Podemos também importar uma função específica de um módulo. Eis a\n",
    " sintaxe geral para essa abordagem:\n",
    " ***from nome_do_módulo import nome_da_função***\n",
    "Você pode importar quantas funções quiser de um módulo separando o\n",
    " nome de cada função com uma vírgula:\n",
    " ***from nome_do_módulo import função_0, função_1, função_2***.\n",
    "\n",
    " Com essa sintaxe não precisamos usar a notação de ponto ao chamar\n",
    " uma função. Como importamos explicitamente a função make_pizza() na\n",
    " instrução import, podemos chamá-la pelo nome quando ela for utilizada."
   ]
  },
  {
   "cell_type": "code",
   "execution_count": 69,
   "metadata": {},
   "outputs": [
    {
     "name": "stdout",
     "output_type": "stream",
     "text": [
      "\n",
      "Making a 16-inch pizza with the following toppings:\n",
      "- pepperoni\n",
      "\n",
      "Making a 12-inch pizza with the following toppings:\n",
      "- mushrooms\n",
      "- green peppers\n",
      "- extra cheese\n"
     ]
    }
   ],
   "source": [
    "from main import make_hotdog\n",
    "\n",
    "make_hotdog(16, 'pepperoni')\n",
    "make_hotdog(12, 'mushrooms', 'green peppers', 'extra cheese')"
   ]
  },
  {
   "cell_type": "markdown",
   "metadata": {},
   "source": [
    "#### Usando apelidos para atribuir um alias a uma função\n",
    " Se o nome de uma função que você importar puder entrar em conflito com\n",
    " um nome existente em seu programa ou se o nome da função for longo,\n",
    " podemos usar um alias único e conciso, que é um nome alternativo,\n",
    " semelhante a um apelido para a função. Dê esse apelido especial à função\n",
    " quando importá-la.\n",
    " A seguir, atribuímos um alias mh() para a função make_hotdog() importando\n",
    " make_hotdog as mh. A palavra reservada as renomeia uma função usando o\n",
    " alias que você fornecer:\n",
    "\n",
    "  A sintaxe geral para fornecer um alias é:\n",
    "***from nome_do_módulo import nome_da_função as nf***"
   ]
  },
  {
   "cell_type": "code",
   "execution_count": 70,
   "metadata": {},
   "outputs": [
    {
     "name": "stdout",
     "output_type": "stream",
     "text": [
      "\n",
      "Making a 16-inch pizza with the following toppings:\n",
      "- pepperoni\n",
      "\n",
      "Making a 12-inch pizza with the following toppings:\n",
      "- mushrooms\n",
      "- green peppers\n",
      "- extra cheese\n"
     ]
    }
   ],
   "source": [
    "from main import make_hotdog as mh\n",
    "\n",
    "mh(16, 'pepperoni')\n",
    "mh(12, 'mushrooms', 'green peppers', 'extra cheese')"
   ]
  },
  {
   "cell_type": "markdown",
   "metadata": {},
   "source": [
    "#### Importando todas as funções de um módulo\n",
    " Podemos dizer a Python para importar todas as funções de um módulo\n",
    " usando o operador asterisco (*):\n",
    "\n",
    " O asterisco na instrução import diz a Python para copiar todas as funções\n",
    " do módulo pizza para esse arquivo de programa. Como todas as funções\n",
    " são importadas, podemos chamar qualquer função pelo nome, sem usar a\n",
    " notação de ponto. No entanto, é melhor não usar essa abordagem quando\n",
    " trabalhar com módulos maiores, que não foram escritos por você: se o\n",
    "módulo tiver um nome de função que seja igual a um nome existente em\n",
    " seu projeto, você poderá ter alguns resultados inesperados. Python poderá\n",
    " ver várias funções ou variáveis com o mesmo nome e, em vez de importar\n",
    " todas as funções separadamente, ele as sobrescreverá.\n",
    " A melhor abordagem é importar a função ou as funções que você quiser\n",
    " ou importar o módulo todo e usar a notação de ponto. Isso resulta em um\n",
    " código claro, mais fácil de ler e de entender. Incluí esta seção para que você\n",
    " possa reconhecer instruções import como esta quando as vir no código de\n",
    " outras pessoas:\n",
    " from nome_do_módulo import *"
   ]
  },
  {
   "cell_type": "code",
   "execution_count": 71,
   "metadata": {},
   "outputs": [
    {
     "name": "stdout",
     "output_type": "stream",
     "text": [
      "\n",
      "Making a 16-inch pizza with the following toppings:\n",
      "- pepperoni\n",
      "\n",
      "Making a 12-inch pizza with the following toppings:\n",
      "- mushrooms\n",
      "- green peppers\n",
      "- extra cheese\n"
     ]
    }
   ],
   "source": [
    "from main import *\n",
    "make_hotdog(16, 'pepperoni')\n",
    "make_hotdog(12, 'mushrooms', 'green peppers', 'extra cheese')"
   ]
  },
  {
   "cell_type": "markdown",
   "metadata": {},
   "source": [
    "## **Classes**\n",
    "Na programação\n",
    " orientada a objetos, escrevemos classes que representam\n",
    " entidades e situações do mundo real, e criamos objetos\n",
    " com base nessas classes. Quando escrevemos uma classe,\n",
    " definimos o comportamento geral que toda uma categoria\n",
    " de objetos pode ter.\n",
    " Quando criamos objetos individuais a partir da classe, cada objeto será\n",
    " automaticamente equipado com o comportamento geral; então você\n",
    " poderá dar a cada objeto as características únicas que desejar.\n",
    " Criar um objeto a partir de uma classe é uma operação conhecida como\n",
    " instanciação, e trabalhamos com instâncias de uma classe.\n",
    "\n",
    "  Uma função que faz parte de uma classe é um método. Tudo que\n",
    " aprendemos sobre funções também se aplica aos métodos;"
   ]
  },
  {
   "cell_type": "code",
   "execution_count": 72,
   "metadata": {},
   "outputs": [
    {
     "data": {
      "text/plain": [
       "' O método __init__() em python é um método especial que Python executa automaticamente sempre que criamos uma nova instância baseada na \\nclasse Dog. Esse método tem dois underscores no início e dois no final uma convenção que ajuda a evitar que os nomes default de métodos \\nPython entrem em conflito com nomes de métodos criados por você.\\n\\nAs duas variáveis definidas em x têm o prefixo self. Qualquer variávelprefixada com self está disponível a todos os métodos da classe;\\nalém disso, podemos acessar essas variáveis por meio de qualquer instância criada a partir da classe. self.name = name usa o valor armazenado no\\nparâmetro name e o armazena na variável name, que é então associada à instância criada. O mesmo processo ocorre com self.age = age. \\nVariáveis como essas, acessíveis por meio de instâncias, são chamadas de atributos.\\n\\nPor enquanto, sit() e roll_over() não fazem muito. Apenas exibem uma mensagem dizendo que o cachorro está sentando ou rolando. \\nNo entanto, o conceito pode ser estendido para situações realistas: se essa classe fizesse parte de um jogo de computador de \\nverdade, esses métodos conteriam código para fazer a animação de um cachorro sentando e rolando. Se essa classe tivesse sido \\nescrita para controlar um robô, esses métodos direcionariam os movimentos para fazer um cachorro-robô sentar e rolar.'"
      ]
     },
     "execution_count": 72,
     "metadata": {},
     "output_type": "execute_result"
    }
   ],
   "source": [
    "# Cada instância criada a partir da classe Dog armazenará um nome (name) e uma idade (age), e daremos a cada cachorro a capacidade de sentar (sit())\n",
    "# e rolar (roll_over()):\n",
    "class Dog():\n",
    "    \"\"\"Uma tentativa de modelar um cachorro\"\"\"\n",
    "\n",
    "    def __init__(self,name,age):\n",
    "        \"\"\"Inicializa os atributos name e age.\"\"\"\n",
    "        self.name = name\n",
    "        self.age = age\n",
    "\n",
    "    def sit(self):\n",
    "        \"\"\"Simula o cachorro sentando em resposta a um comando\"\"\"\n",
    "        print(self.name.title()+ \" is now stting.\")\n",
    "\n",
    "    def roll_over(self):\n",
    "        \"\"\"Simula o cachorro rolando em resposta ao comando.\"\"\"\n",
    "        print(self.name.title()+ \" rolled over\")\n",
    "\n",
    "\n",
    "\"\"\" O método __init__() em python é um método especial que Python executa automaticamente sempre que criamos uma nova instância baseada na \n",
    "classe Dog. Esse método tem dois underscores no início e dois no final uma convenção que ajuda a evitar que os nomes default de métodos \n",
    "Python entrem em conflito com nomes de métodos criados por você.\n",
    "\n",
    "As duas variáveis definidas em x têm o prefixo self. Qualquer variávelprefixada com self está disponível a todos os métodos da classe;\n",
    "além disso, podemos acessar essas variáveis por meio de qualquer instância criada a partir da classe. self.name = name usa o valor armazenado no\n",
    "parâmetro name e o armazena na variável name, que é então associada à instância criada. O mesmo processo ocorre com self.age = age. \n",
    "Variáveis como essas, acessíveis por meio de instâncias, são chamadas de atributos.\n",
    "\n",
    "Por enquanto, sit() e roll_over() não fazem muito. Apenas exibem uma mensagem dizendo que o cachorro está sentando ou rolando. \n",
    "No entanto, o conceito pode ser estendido para situações realistas: se essa classe fizesse parte de um jogo de computador de \n",
    "verdade, esses métodos conteriam código para fazer a animação de um cachorro sentando e rolando. Se essa classe tivesse sido \n",
    "escrita para controlar um robô, esses métodos direcionariam os movimentos para fazer um cachorro-robô sentar e rolar.\"\"\""
   ]
  },
  {
   "cell_type": "markdown",
   "metadata": {},
   "source": [
    "#### Acessando atributos\n",
    " Para acessar os atributos de uma instância utilize a notação de ponto. Em v\n",
    " acessamos o valor do atributo name de my_dog escrevendo:\n",
    "\n",
    " ***my_dog.name*** \n",
    " \n",
    " A notação de ponto é usada com frequência em Python. Essa sintaxe\n",
    " mostra como Python encontra o valor de um atributo. "
   ]
  },
  {
   "cell_type": "code",
   "execution_count": 73,
   "metadata": {},
   "outputs": [
    {
     "name": "stdout",
     "output_type": "stream",
     "text": [
      "My dog's name is Willie.\n",
      "My dog's 6 years old.\n"
     ]
    }
   ],
   "source": [
    "my_dog = Dog(\"Willie\",6)\n",
    "\n",
    "print(\"My dog's name is \"+ my_dog.name.title()+\".\")\n",
    "print(\"My dog's \"+str(my_dog.age)+ \" years old.\")"
   ]
  },
  {
   "cell_type": "markdown",
   "metadata": {},
   "source": [
    "#### Chamando métodos\n",
    " Depois que criarmos uma instância da classe Dog, podemos usar a notação\n",
    " de ponto para chamar qualquer método definido nessa classe. Vamos fazer\n",
    " nosso cachorro sentar e rolar:\n",
    "\n",
    " Para chamar um método, especifique o nome da instância (nesse caso,\n",
    " my_dog) e o método que você quer chamar, separados por um ponto.\n",
    " Quando Python lê my_dog.sit(), ele procura o método sit() na classe Dog e\n",
    " executa esse código. A linha my_dog.roll_over() é interpretada do mesmo\n",
    " modo."
   ]
  },
  {
   "cell_type": "code",
   "execution_count": 74,
   "metadata": {},
   "outputs": [
    {
     "name": "stdout",
     "output_type": "stream",
     "text": [
      "Willie is now stting.\n",
      "Willie rolled over\n"
     ]
    }
   ],
   "source": [
    "my_dog = Dog(\"Willie\",6)\n",
    "my_dog.sit()\n",
    "my_dog.roll_over()"
   ]
  },
  {
   "cell_type": "code",
   "execution_count": 75,
   "metadata": {},
   "outputs": [
    {
     "name": "stdout",
     "output_type": "stream",
     "text": [
      "My dog's name is Willie.\n",
      "My dog is 6 years old\n",
      "Willie is now stting.\n",
      "\n",
      "Your dog's name is Lucy.\n",
      "Your dog is 3 years old.\n",
      "Lucy is now stting.\n"
     ]
    }
   ],
   "source": [
    "your_dog = Dog(\"Lucy\",3)\n",
    "\n",
    "print(\"My dog's name is \" + my_dog.name.title()+\".\")\n",
    "print(\"My dog is \"+ str(my_dog.age)+ \" years old\")\n",
    "my_dog.sit()\n",
    "\n",
    "print(\"\\nYour dog's name is \"+ your_dog.name.title()+\".\")\n",
    "print(\"Your dog is \"+str(your_dog.age)+ \" years old.\")\n",
    "your_dog.sit()"
   ]
  },
  {
   "cell_type": "markdown",
   "metadata": {},
   "source": [
    "#### Exercicios"
   ]
  },
  {
   "cell_type": "code",
   "execution_count": 85,
   "metadata": {},
   "outputs": [
    {
     "name": "stdout",
     "output_type": "stream",
     "text": [
      "O restaurante Ostra Bebada é muito famoso\n",
      "O restaurant fica localizado na Alto da XV\n",
      "A origem deste restaurante remete ao segulo passado.\n",
      "\n",
      "O restaurante Cidadão Do Mundo é muito famoso\n",
      "O restaurant fica localizado na Agua Verde\n",
      "A origem deste restaurante remete ao segulo passado.\n"
     ]
    }
   ],
   "source": [
    "class Restaurant():\n",
    "    def __init__(self, nome, endereço):\n",
    "        self.name = nome\n",
    "        self.endereço = endereço\n",
    "\n",
    "    def especialidade(self):\n",
    "        print(\"A especialidade deste restaurante é comida vegana\")\n",
    "\n",
    "    def origem(self):\n",
    "        print(\"A origem deste restaurante remete ao segulo passado.\")\n",
    "\n",
    "\n",
    "rest_do_bairro = Restaurant(\"ostra bebada\", \"Alto da XV\")\n",
    "print(\"O restaurante \"+ rest_do_bairro.name.title() + \" é muito famoso\")\n",
    "print(\"O restaurant fica localizado na \"+ rest_do_bairro.endereço)\n",
    "rest_do_bairro.origem()\n",
    "\n",
    "rest_do_centro = Restaurant(\"Cidadão do mundo\", \"Agua Verde\")\n",
    "print(\"\\nO restaurante \"+ rest_do_centro.name.title() + \" é muito famoso\")\n",
    "print(\"O restaurant fica localizado na \"+ rest_do_centro.endereço)\n",
    "rest_do_centro.origem()"
   ]
  },
  {
   "cell_type": "code",
   "execution_count": 90,
   "metadata": {},
   "outputs": [
    {
     "name": "stdout",
     "output_type": "stream",
     "text": [
      "O usuarios numero 1 tem o nome de: Jubileu Antunes\n",
      "Este usuario usa roupas pretas.\n",
      "Este usuario usa sapatos de couro.\n",
      "Saudação padrão: Acenar com a mão direita\n",
      "\n",
      "O usuarios numero 2 tem o nome de: Alfredo Pinto\n",
      "Este usuario usa roupas pretas.\n",
      "Este usuario usa sapatos de couro.\n",
      "Saudação padrão: Acenar com a mão esquerda\n"
     ]
    }
   ],
   "source": [
    "class User():\n",
    "    def __init__(self, first_name, last_name):\n",
    "        self.first_name = first_name\n",
    "        self.last_name = last_name\n",
    "    \n",
    "    def describe_user(self):\n",
    "        print(\"Este usuario usa roupas pretas.\")\n",
    "        print(\"Este usuario usa sapatos de couro.\")\n",
    "\n",
    "    def greet_user(self):\n",
    "        print(\"Saudação padrão: Acenar com a mão direita\")\n",
    "\n",
    "    def greet_user_2(self):\n",
    "        print(\"Saudação padrão: Acenar com a mão esquerda\")\n",
    "\n",
    "\n",
    "jubilau = User(\"Jubileu\",\"Antunes\")\n",
    "Alfred = User(\"Alfredo\",\"Pinto\")\n",
    "\n",
    "print(\"O usuarios numero 1 tem o nome de: \"+jubilau.first_name +\" \"+ jubilau.last_name)\n",
    "jubilau.describe_user()\n",
    "jubilau.greet_user()\n",
    "\n",
    "print(\"\\nO usuarios numero 2 tem o nome de: \"+Alfred.first_name +\" \"+ Alfred.last_name)\n",
    "Alfred.describe_user()\n",
    "Alfred.greet_user_2()\n",
    "\n"
   ]
  },
  {
   "cell_type": "code",
   "execution_count": null,
   "metadata": {},
   "outputs": [],
   "source": []
  }
 ],
 "metadata": {
  "kernelspec": {
   "display_name": "aulas",
   "language": "python",
   "name": "python3"
  },
  "language_info": {
   "codemirror_mode": {
    "name": "ipython",
    "version": 3
   },
   "file_extension": ".py",
   "mimetype": "text/x-python",
   "name": "python",
   "nbconvert_exporter": "python",
   "pygments_lexer": "ipython3",
   "version": "3.12.8"
  }
 },
 "nbformat": 4,
 "nbformat_minor": 2
}
